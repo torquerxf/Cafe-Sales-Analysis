{
 "cells": [
  {
   "cell_type": "code",
   "execution_count": 1,
   "id": "141b5955",
   "metadata": {
    "_cell_guid": "b1076dfc-b9ad-4769-8c92-a6c4dae69d19",
    "_uuid": "8f2839f25d086af736a60e9eeb907d3b93b6e0e5",
    "execution": {
     "iopub.execute_input": "2025-09-08T13:07:21.976143Z",
     "iopub.status.busy": "2025-09-08T13:07:21.975720Z",
     "iopub.status.idle": "2025-09-08T13:07:23.998753Z",
     "shell.execute_reply": "2025-09-08T13:07:23.997742Z"
    },
    "papermill": {
     "duration": 2.033529,
     "end_time": "2025-09-08T13:07:24.000517",
     "exception": false,
     "start_time": "2025-09-08T13:07:21.966988",
     "status": "completed"
    },
    "tags": []
   },
   "outputs": [],
   "source": [
    "import numpy as np\n",
    "import pandas as pd"
   ]
  },
  {
   "cell_type": "code",
   "execution_count": 2,
   "id": "a898328e",
   "metadata": {
    "execution": {
     "iopub.execute_input": "2025-09-08T13:07:24.015789Z",
     "iopub.status.busy": "2025-09-08T13:07:24.014749Z",
     "iopub.status.idle": "2025-09-08T13:07:24.088357Z",
     "shell.execute_reply": "2025-09-08T13:07:24.087337Z"
    },
    "papermill": {
     "duration": 0.08255,
     "end_time": "2025-09-08T13:07:24.089904",
     "exception": false,
     "start_time": "2025-09-08T13:07:24.007354",
     "status": "completed"
    },
    "tags": []
   },
   "outputs": [
    {
     "data": {
      "text/html": [
       "<div>\n",
       "<style scoped>\n",
       "    .dataframe tbody tr th:only-of-type {\n",
       "        vertical-align: middle;\n",
       "    }\n",
       "\n",
       "    .dataframe tbody tr th {\n",
       "        vertical-align: top;\n",
       "    }\n",
       "\n",
       "    .dataframe thead th {\n",
       "        text-align: right;\n",
       "    }\n",
       "</style>\n",
       "<table border=\"1\" class=\"dataframe\">\n",
       "  <thead>\n",
       "    <tr style=\"text-align: right;\">\n",
       "      <th></th>\n",
       "      <th>Transaction ID</th>\n",
       "      <th>Item</th>\n",
       "      <th>Quantity</th>\n",
       "      <th>Price Per Unit</th>\n",
       "      <th>Total Spent</th>\n",
       "      <th>Payment Method</th>\n",
       "      <th>Location</th>\n",
       "      <th>Transaction Date</th>\n",
       "    </tr>\n",
       "  </thead>\n",
       "  <tbody>\n",
       "    <tr>\n",
       "      <th>0</th>\n",
       "      <td>TXN_1961373</td>\n",
       "      <td>Coffee</td>\n",
       "      <td>2</td>\n",
       "      <td>2.0</td>\n",
       "      <td>4.0</td>\n",
       "      <td>Credit Card</td>\n",
       "      <td>Takeaway</td>\n",
       "      <td>2023-09-08</td>\n",
       "    </tr>\n",
       "    <tr>\n",
       "      <th>1</th>\n",
       "      <td>TXN_4977031</td>\n",
       "      <td>Cake</td>\n",
       "      <td>4</td>\n",
       "      <td>3.0</td>\n",
       "      <td>12.0</td>\n",
       "      <td>Cash</td>\n",
       "      <td>In-store</td>\n",
       "      <td>2023-05-16</td>\n",
       "    </tr>\n",
       "    <tr>\n",
       "      <th>2</th>\n",
       "      <td>TXN_4271903</td>\n",
       "      <td>Cookie</td>\n",
       "      <td>4</td>\n",
       "      <td>1.0</td>\n",
       "      <td>ERROR</td>\n",
       "      <td>Credit Card</td>\n",
       "      <td>In-store</td>\n",
       "      <td>2023-07-19</td>\n",
       "    </tr>\n",
       "    <tr>\n",
       "      <th>3</th>\n",
       "      <td>TXN_7034554</td>\n",
       "      <td>Salad</td>\n",
       "      <td>2</td>\n",
       "      <td>5.0</td>\n",
       "      <td>10.0</td>\n",
       "      <td>UNKNOWN</td>\n",
       "      <td>UNKNOWN</td>\n",
       "      <td>2023-04-27</td>\n",
       "    </tr>\n",
       "    <tr>\n",
       "      <th>4</th>\n",
       "      <td>TXN_3160411</td>\n",
       "      <td>Coffee</td>\n",
       "      <td>2</td>\n",
       "      <td>2.0</td>\n",
       "      <td>4.0</td>\n",
       "      <td>Digital Wallet</td>\n",
       "      <td>In-store</td>\n",
       "      <td>2023-06-11</td>\n",
       "    </tr>\n",
       "  </tbody>\n",
       "</table>\n",
       "</div>"
      ],
      "text/plain": [
       "  Transaction ID    Item Quantity Price Per Unit Total Spent  Payment Method  \\\n",
       "0    TXN_1961373  Coffee        2            2.0         4.0     Credit Card   \n",
       "1    TXN_4977031    Cake        4            3.0        12.0            Cash   \n",
       "2    TXN_4271903  Cookie        4            1.0       ERROR     Credit Card   \n",
       "3    TXN_7034554   Salad        2            5.0        10.0         UNKNOWN   \n",
       "4    TXN_3160411  Coffee        2            2.0         4.0  Digital Wallet   \n",
       "\n",
       "   Location Transaction Date  \n",
       "0  Takeaway       2023-09-08  \n",
       "1  In-store       2023-05-16  \n",
       "2  In-store       2023-07-19  \n",
       "3   UNKNOWN       2023-04-27  \n",
       "4  In-store       2023-06-11  "
      ]
     },
     "execution_count": 2,
     "metadata": {},
     "output_type": "execute_result"
    }
   ],
   "source": [
    "file_path = '/kaggle/input/cafe-sales-dirty-data-for-cleaning-training/dirty_cafe_sales.csv'\n",
    "df = pd.read_csv(file_path)\n",
    "\n",
    "data = df.copy()\n",
    "data.head()"
   ]
  },
  {
   "cell_type": "code",
   "execution_count": 3,
   "id": "cf4fb029",
   "metadata": {
    "execution": {
     "iopub.execute_input": "2025-09-08T13:07:24.105044Z",
     "iopub.status.busy": "2025-09-08T13:07:24.104137Z",
     "iopub.status.idle": "2025-09-08T13:07:24.139612Z",
     "shell.execute_reply": "2025-09-08T13:07:24.138328Z"
    },
    "papermill": {
     "duration": 0.044839,
     "end_time": "2025-09-08T13:07:24.141446",
     "exception": false,
     "start_time": "2025-09-08T13:07:24.096607",
     "status": "completed"
    },
    "tags": []
   },
   "outputs": [
    {
     "name": "stdout",
     "output_type": "stream",
     "text": [
      "<class 'pandas.core.frame.DataFrame'>\n",
      "RangeIndex: 10000 entries, 0 to 9999\n",
      "Data columns (total 8 columns):\n",
      " #   Column            Non-Null Count  Dtype \n",
      "---  ------            --------------  ----- \n",
      " 0   Transaction ID    10000 non-null  object\n",
      " 1   Item              9667 non-null   object\n",
      " 2   Quantity          9862 non-null   object\n",
      " 3   Price Per Unit    9821 non-null   object\n",
      " 4   Total Spent       9827 non-null   object\n",
      " 5   Payment Method    7421 non-null   object\n",
      " 6   Location          6735 non-null   object\n",
      " 7   Transaction Date  9841 non-null   object\n",
      "dtypes: object(8)\n",
      "memory usage: 625.1+ KB\n"
     ]
    }
   ],
   "source": [
    "data.info()"
   ]
  },
  {
   "cell_type": "code",
   "execution_count": 4,
   "id": "da98bf67",
   "metadata": {
    "execution": {
     "iopub.execute_input": "2025-09-08T13:07:24.157018Z",
     "iopub.status.busy": "2025-09-08T13:07:24.156691Z",
     "iopub.status.idle": "2025-09-08T13:07:24.189481Z",
     "shell.execute_reply": "2025-09-08T13:07:24.188319Z"
    },
    "papermill": {
     "duration": 0.043091,
     "end_time": "2025-09-08T13:07:24.191365",
     "exception": false,
     "start_time": "2025-09-08T13:07:24.148274",
     "status": "completed"
    },
    "tags": []
   },
   "outputs": [
    {
     "data": {
      "text/html": [
       "<div>\n",
       "<style scoped>\n",
       "    .dataframe tbody tr th:only-of-type {\n",
       "        vertical-align: middle;\n",
       "    }\n",
       "\n",
       "    .dataframe tbody tr th {\n",
       "        vertical-align: top;\n",
       "    }\n",
       "\n",
       "    .dataframe thead th {\n",
       "        text-align: right;\n",
       "    }\n",
       "</style>\n",
       "<table border=\"1\" class=\"dataframe\">\n",
       "  <thead>\n",
       "    <tr style=\"text-align: right;\">\n",
       "      <th></th>\n",
       "      <th>Transaction ID</th>\n",
       "      <th>Item</th>\n",
       "      <th>Quantity</th>\n",
       "      <th>Price Per Unit</th>\n",
       "      <th>Total Spent</th>\n",
       "      <th>Payment Method</th>\n",
       "      <th>Location</th>\n",
       "      <th>Transaction Date</th>\n",
       "    </tr>\n",
       "  </thead>\n",
       "  <tbody>\n",
       "    <tr>\n",
       "      <th>count</th>\n",
       "      <td>10000</td>\n",
       "      <td>9667</td>\n",
       "      <td>9862</td>\n",
       "      <td>9821</td>\n",
       "      <td>9827</td>\n",
       "      <td>7421</td>\n",
       "      <td>6735</td>\n",
       "      <td>9841</td>\n",
       "    </tr>\n",
       "    <tr>\n",
       "      <th>unique</th>\n",
       "      <td>10000</td>\n",
       "      <td>10</td>\n",
       "      <td>7</td>\n",
       "      <td>8</td>\n",
       "      <td>19</td>\n",
       "      <td>5</td>\n",
       "      <td>4</td>\n",
       "      <td>367</td>\n",
       "    </tr>\n",
       "    <tr>\n",
       "      <th>top</th>\n",
       "      <td>TXN_1961373</td>\n",
       "      <td>Juice</td>\n",
       "      <td>5</td>\n",
       "      <td>3.0</td>\n",
       "      <td>6.0</td>\n",
       "      <td>Digital Wallet</td>\n",
       "      <td>Takeaway</td>\n",
       "      <td>UNKNOWN</td>\n",
       "    </tr>\n",
       "    <tr>\n",
       "      <th>freq</th>\n",
       "      <td>1</td>\n",
       "      <td>1171</td>\n",
       "      <td>2013</td>\n",
       "      <td>2429</td>\n",
       "      <td>979</td>\n",
       "      <td>2291</td>\n",
       "      <td>3022</td>\n",
       "      <td>159</td>\n",
       "    </tr>\n",
       "  </tbody>\n",
       "</table>\n",
       "</div>"
      ],
      "text/plain": [
       "       Transaction ID   Item Quantity Price Per Unit Total Spent  \\\n",
       "count           10000   9667     9862           9821        9827   \n",
       "unique          10000     10        7              8          19   \n",
       "top       TXN_1961373  Juice        5            3.0         6.0   \n",
       "freq                1   1171     2013           2429         979   \n",
       "\n",
       "        Payment Method  Location Transaction Date  \n",
       "count             7421      6735             9841  \n",
       "unique               5         4              367  \n",
       "top     Digital Wallet  Takeaway          UNKNOWN  \n",
       "freq              2291      3022              159  "
      ]
     },
     "execution_count": 4,
     "metadata": {},
     "output_type": "execute_result"
    }
   ],
   "source": [
    "data.describe()"
   ]
  },
  {
   "cell_type": "code",
   "execution_count": 5,
   "id": "4261bad1",
   "metadata": {
    "execution": {
     "iopub.execute_input": "2025-09-08T13:07:24.206684Z",
     "iopub.status.busy": "2025-09-08T13:07:24.206235Z",
     "iopub.status.idle": "2025-09-08T13:07:24.213720Z",
     "shell.execute_reply": "2025-09-08T13:07:24.212828Z"
    },
    "papermill": {
     "duration": 0.01675,
     "end_time": "2025-09-08T13:07:24.215156",
     "exception": false,
     "start_time": "2025-09-08T13:07:24.198406",
     "status": "completed"
    },
    "tags": []
   },
   "outputs": [
    {
     "data": {
      "text/plain": [
       "Transaction ID      object\n",
       "Item                object\n",
       "Quantity            object\n",
       "Price Per Unit      object\n",
       "Total Spent         object\n",
       "Payment Method      object\n",
       "Location            object\n",
       "Transaction Date    object\n",
       "dtype: object"
      ]
     },
     "execution_count": 5,
     "metadata": {},
     "output_type": "execute_result"
    }
   ],
   "source": [
    "data.dtypes"
   ]
  },
  {
   "cell_type": "code",
   "execution_count": 6,
   "id": "5e92df8b",
   "metadata": {
    "execution": {
     "iopub.execute_input": "2025-09-08T13:07:24.230867Z",
     "iopub.status.busy": "2025-09-08T13:07:24.230522Z",
     "iopub.status.idle": "2025-09-08T13:07:24.234940Z",
     "shell.execute_reply": "2025-09-08T13:07:24.234053Z"
    },
    "papermill": {
     "duration": 0.014347,
     "end_time": "2025-09-08T13:07:24.236586",
     "exception": false,
     "start_time": "2025-09-08T13:07:24.222239",
     "status": "completed"
    },
    "tags": []
   },
   "outputs": [],
   "source": [
    "# def fixIntFloat(x, kind):\n",
    "#     if kind == 'int':\n",
    "#         x = x.str.replace(r'[^0-9.]', '', regex=True)\n",
    "#     else:\n",
    "#         x = x.str.replace(r'[^0-9]', '', regex=True)\n",
    "#     x = pd.to_numeric(x, errors='coerce')\n",
    "#     return x\n",
    "\n",
    "# def fixDateTime(col):\n",
    "#     x = col\n",
    "#     # x.unique()[:20] => some bs here, need to change that to ''\n",
    "#     x = x.where(x.str.match(r'^\\d{4}-\\d{2}-\\d{2}$'), None)\n",
    "#     x = pd.to_datetime(x, errors='coerce')\n",
    "#     return x"
   ]
  },
  {
   "cell_type": "code",
   "execution_count": 7,
   "id": "dbd38936",
   "metadata": {
    "execution": {
     "iopub.execute_input": "2025-09-08T13:07:24.252282Z",
     "iopub.status.busy": "2025-09-08T13:07:24.251345Z",
     "iopub.status.idle": "2025-09-08T13:07:24.255528Z",
     "shell.execute_reply": "2025-09-08T13:07:24.254692Z"
    },
    "papermill": {
     "duration": 0.013496,
     "end_time": "2025-09-08T13:07:24.257030",
     "exception": false,
     "start_time": "2025-09-08T13:07:24.243534",
     "status": "completed"
    },
    "tags": []
   },
   "outputs": [],
   "source": [
    "# temp_data = data.copy()\n",
    "# temp_data['Quantity'] = fixIntFloat(temp_data['Quantity'], 'int')\n",
    "# temp_data['Price Per Unit'] = fixIntFloat(temp_data['Price Per Unit'], 'float')\n",
    "# temp_data['Total Spent'] = fixIntFloat(temp_data['Total Spent'], 'float')\n",
    "# temp_data['Transaction Date'] = fixDateTime(temp_data['Transaction Date'])\n"
   ]
  },
  {
   "cell_type": "code",
   "execution_count": 8,
   "id": "70cd641e",
   "metadata": {
    "execution": {
     "iopub.execute_input": "2025-09-08T13:07:24.272136Z",
     "iopub.status.busy": "2025-09-08T13:07:24.271734Z",
     "iopub.status.idle": "2025-09-08T13:07:24.277362Z",
     "shell.execute_reply": "2025-09-08T13:07:24.276288Z"
    },
    "papermill": {
     "duration": 0.014998,
     "end_time": "2025-09-08T13:07:24.278989",
     "exception": false,
     "start_time": "2025-09-08T13:07:24.263991",
     "status": "completed"
    },
    "tags": []
   },
   "outputs": [],
   "source": [
    "temp_data = data.copy()"
   ]
  },
  {
   "cell_type": "code",
   "execution_count": 9,
   "id": "5e6ede46",
   "metadata": {
    "execution": {
     "iopub.execute_input": "2025-09-08T13:07:24.294745Z",
     "iopub.status.busy": "2025-09-08T13:07:24.293959Z",
     "iopub.status.idle": "2025-09-08T13:07:24.300665Z",
     "shell.execute_reply": "2025-09-08T13:07:24.299793Z"
    },
    "papermill": {
     "duration": 0.016058,
     "end_time": "2025-09-08T13:07:24.301950",
     "exception": false,
     "start_time": "2025-09-08T13:07:24.285892",
     "status": "completed"
    },
    "tags": []
   },
   "outputs": [
    {
     "data": {
      "text/plain": [
       "array(['Coffee', 'Cake', 'Cookie', 'Salad', 'Smoothie', 'UNKNOWN',\n",
       "       'Sandwich', nan, 'ERROR', 'Juice', 'Tea'], dtype=object)"
      ]
     },
     "execution_count": 9,
     "metadata": {},
     "output_type": "execute_result"
    }
   ],
   "source": [
    "temp_data['Item'].unique()"
   ]
  },
  {
   "cell_type": "code",
   "execution_count": 10,
   "id": "b181f6a6",
   "metadata": {
    "execution": {
     "iopub.execute_input": "2025-09-08T13:07:24.317633Z",
     "iopub.status.busy": "2025-09-08T13:07:24.317240Z",
     "iopub.status.idle": "2025-09-08T13:07:24.327826Z",
     "shell.execute_reply": "2025-09-08T13:07:24.326701Z"
    },
    "papermill": {
     "duration": 0.020552,
     "end_time": "2025-09-08T13:07:24.329364",
     "exception": false,
     "start_time": "2025-09-08T13:07:24.308812",
     "status": "completed"
    },
    "tags": []
   },
   "outputs": [
    {
     "name": "stdout",
     "output_type": "stream",
     "text": [
      "Transaction ID : ['TXN_1961373' 'TXN_4977031' 'TXN_4271903' 'TXN_7034554' 'TXN_3160411'\n",
      " 'TXN_2602893' 'TXN_4433211' 'TXN_6699534' 'TXN_4717867' 'TXN_2064365'\n",
      " 'TXN_2548360' 'TXN_3051279' 'TXN_7619095' 'TXN_9437049' 'TXN_8915701'\n",
      " 'TXN_2847255' 'TXN_3765707' 'TXN_6769710' 'TXN_8876618' 'TXN_3709394']\n",
      "Item : ['Coffee' 'Cake' 'Cookie' 'Salad' 'Smoothie' 'UNKNOWN' 'Sandwich' nan\n",
      " 'ERROR' 'Juice' 'Tea']\n",
      "Quantity : ['2' '4' '5' '3' '1' 'ERROR' 'UNKNOWN' nan]\n",
      "Price Per Unit : ['2.0' '3.0' '1.0' '5.0' '4.0' '1.5' nan 'ERROR' 'UNKNOWN']\n",
      "Total Spent : ['4.0' '12.0' 'ERROR' '10.0' '20.0' '9.0' '16.0' '15.0' '25.0' '8.0' '5.0'\n",
      " '3.0' '6.0' nan 'UNKNOWN' '2.0' '1.0' '7.5' '4.5' '1.5']\n",
      "Payment Method : ['Credit Card' 'Cash' 'UNKNOWN' 'Digital Wallet' 'ERROR' nan]\n",
      "Location : ['Takeaway' 'In-store' 'UNKNOWN' nan 'ERROR']\n",
      "Transaction Date : ['2023-09-08' '2023-05-16' '2023-07-19' '2023-04-27' '2023-06-11'\n",
      " '2023-03-31' '2023-10-06' '2023-10-28' '2023-07-28' '2023-12-31'\n",
      " '2023-11-07' 'ERROR' '2023-05-03' '2023-06-01' '2023-03-21' '2023-11-15'\n",
      " '2023-06-10' '2023-02-24' '2023-03-25' '2023-01-15']\n"
     ]
    }
   ],
   "source": [
    "for col in temp_data:\n",
    "    print(col, ':', temp_data[col].unique()[:20])"
   ]
  },
  {
   "cell_type": "markdown",
   "id": "787c50e9",
   "metadata": {
    "papermill": {
     "duration": 0.006787,
     "end_time": "2025-09-08T13:07:24.343422",
     "exception": false,
     "start_time": "2025-09-08T13:07:24.336635",
     "status": "completed"
    },
    "tags": []
   },
   "source": [
    "# EVERY COLUMN HAS GARBAGE VALUES:\n",
    "**Strategy to fix them:**\n",
    "* For categorical type, note down the types and replace the entries with nan which aren't in one of the types\n",
    "* For numerical type, use regex to check for int or float type and replace any other with nan"
   ]
  },
  {
   "cell_type": "code",
   "execution_count": 11,
   "id": "d6ee4ddf",
   "metadata": {
    "execution": {
     "iopub.execute_input": "2025-09-08T13:07:24.358900Z",
     "iopub.status.busy": "2025-09-08T13:07:24.358567Z",
     "iopub.status.idle": "2025-09-08T13:07:24.367607Z",
     "shell.execute_reply": "2025-09-08T13:07:24.366670Z"
    },
    "papermill": {
     "duration": 0.018607,
     "end_time": "2025-09-08T13:07:24.369061",
     "exception": false,
     "start_time": "2025-09-08T13:07:24.350454",
     "status": "completed"
    },
    "tags": []
   },
   "outputs": [],
   "source": [
    "items = ['Coffee', 'Cake', 'Cookie', 'Salad', 'Smoothie', 'Sandwich', 'Juice', 'Tea']\n",
    "\n",
    "temp_data['Item'] = temp_data['Item'].where(temp_data['Item'].isin(items), np.nan)"
   ]
  },
  {
   "cell_type": "code",
   "execution_count": 12,
   "id": "98011e46",
   "metadata": {
    "execution": {
     "iopub.execute_input": "2025-09-08T13:07:24.384369Z",
     "iopub.status.busy": "2025-09-08T13:07:24.384033Z",
     "iopub.status.idle": "2025-09-08T13:07:24.389371Z",
     "shell.execute_reply": "2025-09-08T13:07:24.388327Z"
    },
    "papermill": {
     "duration": 0.015035,
     "end_time": "2025-09-08T13:07:24.391212",
     "exception": false,
     "start_time": "2025-09-08T13:07:24.376177",
     "status": "completed"
    },
    "tags": []
   },
   "outputs": [],
   "source": [
    "items = ['Coffee', 'Cake', 'Cookie', 'Salad', 'Smoothie', 'Sandwich', 'Juice', 'Tea']\n",
    "payment_method = ['Credit Card', 'Cash', 'Digital Wallet']\n",
    "location = ['Takeaway', 'In-store']"
   ]
  },
  {
   "cell_type": "code",
   "execution_count": 13,
   "id": "728c5146",
   "metadata": {
    "execution": {
     "iopub.execute_input": "2025-09-08T13:07:24.406700Z",
     "iopub.status.busy": "2025-09-08T13:07:24.406386Z",
     "iopub.status.idle": "2025-09-08T13:07:24.411382Z",
     "shell.execute_reply": "2025-09-08T13:07:24.410431Z"
    },
    "papermill": {
     "duration": 0.014682,
     "end_time": "2025-09-08T13:07:24.413087",
     "exception": false,
     "start_time": "2025-09-08T13:07:24.398405",
     "status": "completed"
    },
    "tags": []
   },
   "outputs": [],
   "source": [
    "# function for replacing garbage values for all categorical data\n",
    "def replaceGarbage(column, correct):\n",
    "    temp_data[column] = temp_data[column].where(temp_data[column].isin(correct), np.nan)"
   ]
  },
  {
   "cell_type": "code",
   "execution_count": 14,
   "id": "1bb12a90",
   "metadata": {
    "execution": {
     "iopub.execute_input": "2025-09-08T13:07:24.428296Z",
     "iopub.status.busy": "2025-09-08T13:07:24.427965Z",
     "iopub.status.idle": "2025-09-08T13:07:24.438162Z",
     "shell.execute_reply": "2025-09-08T13:07:24.437196Z"
    },
    "papermill": {
     "duration": 0.019668,
     "end_time": "2025-09-08T13:07:24.439778",
     "exception": false,
     "start_time": "2025-09-08T13:07:24.420110",
     "status": "completed"
    },
    "tags": []
   },
   "outputs": [],
   "source": [
    "replaceGarbage('Item', items)\n",
    "replaceGarbage('Payment Method', payment_method)\n",
    "replaceGarbage('Location', location)"
   ]
  },
  {
   "cell_type": "code",
   "execution_count": 15,
   "id": "e9c77760",
   "metadata": {
    "execution": {
     "iopub.execute_input": "2025-09-08T13:07:24.456404Z",
     "iopub.status.busy": "2025-09-08T13:07:24.456074Z",
     "iopub.status.idle": "2025-09-08T13:07:24.462698Z",
     "shell.execute_reply": "2025-09-08T13:07:24.461714Z"
    },
    "papermill": {
     "duration": 0.017258,
     "end_time": "2025-09-08T13:07:24.464197",
     "exception": false,
     "start_time": "2025-09-08T13:07:24.446939",
     "status": "completed"
    },
    "tags": []
   },
   "outputs": [
    {
     "data": {
      "text/plain": [
       "array(['Credit Card', 'Cash', nan, 'Digital Wallet'], dtype=object)"
      ]
     },
     "execution_count": 15,
     "metadata": {},
     "output_type": "execute_result"
    }
   ],
   "source": [
    "temp_data['Payment Method'].unique()"
   ]
  },
  {
   "cell_type": "code",
   "execution_count": 16,
   "id": "e2804046",
   "metadata": {
    "execution": {
     "iopub.execute_input": "2025-09-08T13:07:24.480293Z",
     "iopub.status.busy": "2025-09-08T13:07:24.479971Z",
     "iopub.status.idle": "2025-09-08T13:07:24.499332Z",
     "shell.execute_reply": "2025-09-08T13:07:24.498602Z"
    },
    "papermill": {
     "duration": 0.029375,
     "end_time": "2025-09-08T13:07:24.500873",
     "exception": false,
     "start_time": "2025-09-08T13:07:24.471498",
     "status": "completed"
    },
    "tags": []
   },
   "outputs": [
    {
     "data": {
      "text/plain": [
       "array([ 2.,  4.,  5.,  3.,  1., nan])"
      ]
     },
     "execution_count": 16,
     "metadata": {},
     "output_type": "execute_result"
    }
   ],
   "source": [
    "temp_data['Quantity'].str.replace(r'[^0-9]', '', regex=True)\n",
    "temp_data['Quantity'] = pd.to_numeric(temp_data['Quantity'], errors='coerce')\n",
    "temp_data['Quantity'].unique()"
   ]
  },
  {
   "cell_type": "code",
   "execution_count": 17,
   "id": "3ec1760f",
   "metadata": {
    "execution": {
     "iopub.execute_input": "2025-09-08T13:07:24.516347Z",
     "iopub.status.busy": "2025-09-08T13:07:24.516018Z",
     "iopub.status.idle": "2025-09-08T13:07:24.532464Z",
     "shell.execute_reply": "2025-09-08T13:07:24.531662Z"
    },
    "papermill": {
     "duration": 0.025774,
     "end_time": "2025-09-08T13:07:24.533911",
     "exception": false,
     "start_time": "2025-09-08T13:07:24.508137",
     "status": "completed"
    },
    "tags": []
   },
   "outputs": [
    {
     "data": {
      "text/plain": [
       "array([2. , 3. , 1. , 5. , 4. , 1.5, nan])"
      ]
     },
     "execution_count": 17,
     "metadata": {},
     "output_type": "execute_result"
    }
   ],
   "source": [
    "temp_data['Price Per Unit'].str.replace(r'[^0-9.]', '', regex=True)\n",
    "temp_data['Price Per Unit'] = pd.to_numeric(temp_data['Price Per Unit'], errors='coerce')\n",
    "temp_data['Price Per Unit'].unique()"
   ]
  },
  {
   "cell_type": "code",
   "execution_count": 18,
   "id": "912c592a",
   "metadata": {
    "execution": {
     "iopub.execute_input": "2025-09-08T13:07:24.550039Z",
     "iopub.status.busy": "2025-09-08T13:07:24.549711Z",
     "iopub.status.idle": "2025-09-08T13:07:24.566133Z",
     "shell.execute_reply": "2025-09-08T13:07:24.565397Z"
    },
    "papermill": {
     "duration": 0.026434,
     "end_time": "2025-09-08T13:07:24.567658",
     "exception": false,
     "start_time": "2025-09-08T13:07:24.541224",
     "status": "completed"
    },
    "tags": []
   },
   "outputs": [
    {
     "data": {
      "text/plain": [
       "array([ 4. , 12. ,  nan, 10. , 20. ,  9. , 16. , 15. , 25. ,  8. ,  5. ,\n",
       "        3. ,  6. ,  2. ,  1. ,  7.5,  4.5,  1.5])"
      ]
     },
     "execution_count": 18,
     "metadata": {},
     "output_type": "execute_result"
    }
   ],
   "source": [
    "temp_data['Total Spent'].str.replace(r'[^0-9.]', '', regex=True)\n",
    "temp_data['Total Spent'] = pd.to_numeric(temp_data['Total Spent'], errors='coerce')\n",
    "temp_data['Total Spent'].unique()[:20]"
   ]
  },
  {
   "cell_type": "code",
   "execution_count": 19,
   "id": "ab0167fc",
   "metadata": {
    "execution": {
     "iopub.execute_input": "2025-09-08T13:07:24.584014Z",
     "iopub.status.busy": "2025-09-08T13:07:24.583675Z",
     "iopub.status.idle": "2025-09-08T13:07:24.603373Z",
     "shell.execute_reply": "2025-09-08T13:07:24.602363Z"
    },
    "papermill": {
     "duration": 0.030038,
     "end_time": "2025-09-08T13:07:24.605118",
     "exception": false,
     "start_time": "2025-09-08T13:07:24.575080",
     "status": "completed"
    },
    "tags": []
   },
   "outputs": [],
   "source": [
    "temp_data['Transaction Date'] = temp_data['Transaction Date'].where(temp_data['Transaction Date'].str.match(r'^\\d{4}-\\d{2}-\\d{2}$'), None)\n",
    "temp_data['Transaction Date'] = pd.to_datetime(temp_data['Transaction Date'], errors='coerce')"
   ]
  },
  {
   "cell_type": "code",
   "execution_count": 20,
   "id": "60210550",
   "metadata": {
    "execution": {
     "iopub.execute_input": "2025-09-08T13:07:24.620850Z",
     "iopub.status.busy": "2025-09-08T13:07:24.620551Z",
     "iopub.status.idle": "2025-09-08T13:07:24.631510Z",
     "shell.execute_reply": "2025-09-08T13:07:24.630327Z"
    },
    "papermill": {
     "duration": 0.02056,
     "end_time": "2025-09-08T13:07:24.633070",
     "exception": false,
     "start_time": "2025-09-08T13:07:24.612510",
     "status": "completed"
    },
    "tags": []
   },
   "outputs": [
    {
     "data": {
      "text/plain": [
       "Transaction ID         0\n",
       "Item                 969\n",
       "Quantity             479\n",
       "Price Per Unit       533\n",
       "Total Spent          502\n",
       "Payment Method      3178\n",
       "Location            3961\n",
       "Transaction Date     460\n",
       "dtype: int64"
      ]
     },
     "execution_count": 20,
     "metadata": {},
     "output_type": "execute_result"
    }
   ],
   "source": [
    "temp_data.isnull().sum()"
   ]
  },
  {
   "cell_type": "code",
   "execution_count": 21,
   "id": "09be90a4",
   "metadata": {
    "execution": {
     "iopub.execute_input": "2025-09-08T13:07:24.650139Z",
     "iopub.status.busy": "2025-09-08T13:07:24.649128Z",
     "iopub.status.idle": "2025-09-08T13:07:24.661976Z",
     "shell.execute_reply": "2025-09-08T13:07:24.661166Z"
    },
    "papermill": {
     "duration": 0.023138,
     "end_time": "2025-09-08T13:07:24.663861",
     "exception": false,
     "start_time": "2025-09-08T13:07:24.640723",
     "status": "completed"
    },
    "tags": []
   },
   "outputs": [
    {
     "data": {
      "text/plain": [
       "Transaction ID         0\n",
       "Item                 333\n",
       "Quantity             138\n",
       "Price Per Unit       179\n",
       "Total Spent          173\n",
       "Payment Method      2579\n",
       "Location            3265\n",
       "Transaction Date     159\n",
       "dtype: int64"
      ]
     },
     "execution_count": 21,
     "metadata": {},
     "output_type": "execute_result"
    }
   ],
   "source": [
    "data.isnull().sum()"
   ]
  },
  {
   "cell_type": "markdown",
   "id": "940c3899",
   "metadata": {
    "papermill": {
     "duration": 0.007472,
     "end_time": "2025-09-08T13:07:24.679052",
     "exception": false,
     "start_time": "2025-09-08T13:07:24.671580",
     "status": "completed"
    },
    "tags": []
   },
   "source": [
    "# Fill NULL Values\n",
    "\n",
    "\n",
    "| Column           | Handling Missing Values                                   |\n",
    "| ---------------- | --------------------------------------------------------- |\n",
    "| Transaction ID   | Drop row if missing (essential unique identifier).        |\n",
    "| Transaction Date | Forward/backward fill (time series continuity).           |\n",
    "| Item             | Infer from `Price Per Unit`, else `'Unknown'`.            |\n",
    "| Quantity         | Derive from `Total Spent ÷ Price`, else median.           |\n",
    "| Price Per Unit   | Derive from `Total Spent ÷ Quantity`, else mean per Item. |\n",
    "| Total Spent      | Derive from `Quantity × Price`, else median per Item.     |\n",
    "| Payment Method   | Mode imputation, or `'Unknown'`.                          |\n",
    "| Location         | `'Unknown'` if not inferable.                             |\n"
   ]
  },
  {
   "cell_type": "markdown",
   "id": "eb41edfd",
   "metadata": {
    "papermill": {
     "duration": 0.007787,
     "end_time": "2025-09-08T13:07:24.694574",
     "exception": false,
     "start_time": "2025-09-08T13:07:24.686787",
     "status": "completed"
    },
    "tags": []
   },
   "source": [
    "### Transaction Date\n",
    "\n",
    "Ways we can fill:\n",
    "* sequential fill (ffill/bfill), but it assumes sorted dates\n",
    "* fill with mode\n",
    "* Dropna"
   ]
  },
  {
   "cell_type": "code",
   "execution_count": 22,
   "id": "3b76eef8",
   "metadata": {
    "execution": {
     "iopub.execute_input": "2025-09-08T13:07:24.777303Z",
     "iopub.status.busy": "2025-09-08T13:07:24.776974Z",
     "iopub.status.idle": "2025-09-08T13:07:24.793613Z",
     "shell.execute_reply": "2025-09-08T13:07:24.792780Z"
    },
    "papermill": {
     "duration": 0.026758,
     "end_time": "2025-09-08T13:07:24.795221",
     "exception": false,
     "start_time": "2025-09-08T13:07:24.768463",
     "status": "completed"
    },
    "tags": []
   },
   "outputs": [
    {
     "data": {
      "text/plain": [
       "Transaction ID         0\n",
       "Item                 927\n",
       "Quantity             454\n",
       "Price Per Unit       506\n",
       "Total Spent          476\n",
       "Payment Method      3015\n",
       "Location            3779\n",
       "Transaction Date       0\n",
       "dtype: int64"
      ]
     },
     "execution_count": 22,
     "metadata": {},
     "output_type": "execute_result"
    }
   ],
   "source": [
    "temp_data = temp_data.dropna(subset=['Transaction Date'])\n",
    "temp_data.isnull().sum()"
   ]
  },
  {
   "cell_type": "markdown",
   "id": "216541f0",
   "metadata": {
    "papermill": {
     "duration": 0.007384,
     "end_time": "2025-09-08T13:07:24.810274",
     "exception": false,
     "start_time": "2025-09-08T13:07:24.802890",
     "status": "completed"
    },
    "tags": []
   },
   "source": [
    "### Item\n",
    "* Can be mapped with price per unit, coz unique\n",
    "* or, impute with 'unknown'"
   ]
  },
  {
   "cell_type": "code",
   "execution_count": 23,
   "id": "e772d70a",
   "metadata": {
    "execution": {
     "iopub.execute_input": "2025-09-08T13:07:24.827009Z",
     "iopub.status.busy": "2025-09-08T13:07:24.826151Z",
     "iopub.status.idle": "2025-09-08T13:07:24.835660Z",
     "shell.execute_reply": "2025-09-08T13:07:24.834793Z"
    },
    "papermill": {
     "duration": 0.01961,
     "end_time": "2025-09-08T13:07:24.837285",
     "exception": false,
     "start_time": "2025-09-08T13:07:24.817675",
     "status": "completed"
    },
    "tags": []
   },
   "outputs": [
    {
     "data": {
      "text/plain": [
       "{'Cake': 3.0,\n",
       " 'Coffee': 2.0,\n",
       " 'Cookie': 1.0,\n",
       " 'Juice': 3.0,\n",
       " 'Salad': 5.0,\n",
       " 'Sandwich': 4.0,\n",
       " 'Smoothie': 4.0,\n",
       " 'Tea': 1.5}"
      ]
     },
     "execution_count": 23,
     "metadata": {},
     "output_type": "execute_result"
    }
   ],
   "source": [
    "price_map = temp_data.groupby('Item')['Price Per Unit'].mean().to_dict()\n",
    "price_map"
   ]
  },
  {
   "cell_type": "code",
   "execution_count": 24,
   "id": "30cb25bb",
   "metadata": {
    "execution": {
     "iopub.execute_input": "2025-09-08T13:07:24.854574Z",
     "iopub.status.busy": "2025-09-08T13:07:24.854176Z",
     "iopub.status.idle": "2025-09-08T13:07:24.860416Z",
     "shell.execute_reply": "2025-09-08T13:07:24.859314Z"
    },
    "papermill": {
     "duration": 0.016568,
     "end_time": "2025-09-08T13:07:24.861846",
     "exception": false,
     "start_time": "2025-09-08T13:07:24.845278",
     "status": "completed"
    },
    "tags": []
   },
   "outputs": [
    {
     "data": {
      "text/plain": [
       "{3.0: 'Juice',\n",
       " 2.0: 'Coffee',\n",
       " 1.0: 'Cookie',\n",
       " 5.0: 'Salad',\n",
       " 4.0: 'Smoothie',\n",
       " 1.5: 'Tea'}"
      ]
     },
     "execution_count": 24,
     "metadata": {},
     "output_type": "execute_result"
    }
   ],
   "source": [
    "# reverse mapping\n",
    "price_item = {price: item for item, price in price_map.items()}\n",
    "price_item"
   ]
  },
  {
   "cell_type": "code",
   "execution_count": 25,
   "id": "06d237a7",
   "metadata": {
    "execution": {
     "iopub.execute_input": "2025-09-08T13:07:24.878781Z",
     "iopub.status.busy": "2025-09-08T13:07:24.878473Z",
     "iopub.status.idle": "2025-09-08T13:07:24.889340Z",
     "shell.execute_reply": "2025-09-08T13:07:24.888479Z"
    },
    "papermill": {
     "duration": 0.021102,
     "end_time": "2025-09-08T13:07:24.890900",
     "exception": false,
     "start_time": "2025-09-08T13:07:24.869798",
     "status": "completed"
    },
    "tags": []
   },
   "outputs": [
    {
     "data": {
      "text/plain": [
       "51"
      ]
     },
     "execution_count": 25,
     "metadata": {},
     "output_type": "execute_result"
    }
   ],
   "source": [
    "temp_data['Item'] = temp_data['Item'].fillna(temp_data['Price Per Unit'].map(price_item))\n",
    "temp_data['Item'].isnull().sum()"
   ]
  },
  {
   "cell_type": "code",
   "execution_count": 26,
   "id": "f91f776c",
   "metadata": {
    "execution": {
     "iopub.execute_input": "2025-09-08T13:07:24.908053Z",
     "iopub.status.busy": "2025-09-08T13:07:24.907766Z",
     "iopub.status.idle": "2025-09-08T13:07:24.945195Z",
     "shell.execute_reply": "2025-09-08T13:07:24.944319Z"
    },
    "papermill": {
     "duration": 0.047825,
     "end_time": "2025-09-08T13:07:24.946874",
     "exception": false,
     "start_time": "2025-09-08T13:07:24.899049",
     "status": "completed"
    },
    "tags": []
   },
   "outputs": [
    {
     "data": {
      "text/plain": [
       "Transaction ID         0\n",
       "Item                  51\n",
       "Quantity              36\n",
       "Price Per Unit        35\n",
       "Total Spent           39\n",
       "Payment Method      3015\n",
       "Location            3779\n",
       "Transaction Date       0\n",
       "dtype: int64"
      ]
     },
     "execution_count": 26,
     "metadata": {},
     "output_type": "execute_result"
    }
   ],
   "source": [
    "temp_data['Price Per Unit'] = temp_data['Price Per Unit'].fillna(temp_data['Total Spent']/ temp_data['Quantity'])\n",
    "temp_data['Quantity'] = temp_data['Quantity'].fillna(temp_data['Total Spent']/ temp_data['Price Per Unit'])\n",
    "temp_data['Total Spent'] = temp_data['Total Spent'].fillna(temp_data['Price Per Unit']* temp_data['Quantity'])\n",
    "temp_data.isnull().sum()"
   ]
  },
  {
   "cell_type": "code",
   "execution_count": 27,
   "id": "e08221d7",
   "metadata": {
    "execution": {
     "iopub.execute_input": "2025-09-08T13:07:24.963770Z",
     "iopub.status.busy": "2025-09-08T13:07:24.963472Z",
     "iopub.status.idle": "2025-09-08T13:07:24.976379Z",
     "shell.execute_reply": "2025-09-08T13:07:24.975514Z"
    },
    "papermill": {
     "duration": 0.023036,
     "end_time": "2025-09-08T13:07:24.977885",
     "exception": false,
     "start_time": "2025-09-08T13:07:24.954849",
     "status": "completed"
    },
    "tags": []
   },
   "outputs": [
    {
     "data": {
      "text/plain": [
       "Transaction ID         0\n",
       "Item                   6\n",
       "Quantity              36\n",
       "Price Per Unit        35\n",
       "Total Spent           39\n",
       "Payment Method      3015\n",
       "Location            3779\n",
       "Transaction Date       0\n",
       "dtype: int64"
      ]
     },
     "execution_count": 27,
     "metadata": {},
     "output_type": "execute_result"
    }
   ],
   "source": [
    "temp_data['Item'] = temp_data['Item'].fillna(temp_data['Price Per Unit'].map(price_item))\n",
    "temp_data.isnull().sum()"
   ]
  },
  {
   "cell_type": "code",
   "execution_count": 28,
   "id": "cff23d81",
   "metadata": {
    "execution": {
     "iopub.execute_input": "2025-09-08T13:07:24.995270Z",
     "iopub.status.busy": "2025-09-08T13:07:24.994970Z",
     "iopub.status.idle": "2025-09-08T13:07:25.007327Z",
     "shell.execute_reply": "2025-09-08T13:07:25.006435Z"
    },
    "papermill": {
     "duration": 0.022793,
     "end_time": "2025-09-08T13:07:25.008863",
     "exception": false,
     "start_time": "2025-09-08T13:07:24.986070",
     "status": "completed"
    },
    "tags": []
   },
   "outputs": [
    {
     "data": {
      "text/plain": [
       "Transaction ID         0\n",
       "Item                   6\n",
       "Quantity              36\n",
       "Price Per Unit         6\n",
       "Total Spent           39\n",
       "Payment Method      3015\n",
       "Location            3779\n",
       "Transaction Date       0\n",
       "dtype: int64"
      ]
     },
     "execution_count": 28,
     "metadata": {},
     "output_type": "execute_result"
    }
   ],
   "source": [
    "temp_data['Price Per Unit'] = temp_data['Price Per Unit'].fillna(temp_data['Item'].map(price_map))\n",
    "temp_data.isnull().sum()"
   ]
  },
  {
   "cell_type": "code",
   "execution_count": 29,
   "id": "53db594f",
   "metadata": {
    "execution": {
     "iopub.execute_input": "2025-09-08T13:07:25.026266Z",
     "iopub.status.busy": "2025-09-08T13:07:25.025967Z",
     "iopub.status.idle": "2025-09-08T13:07:25.037631Z",
     "shell.execute_reply": "2025-09-08T13:07:25.036689Z"
    },
    "papermill": {
     "duration": 0.022358,
     "end_time": "2025-09-08T13:07:25.039396",
     "exception": false,
     "start_time": "2025-09-08T13:07:25.017038",
     "status": "completed"
    },
    "tags": []
   },
   "outputs": [
    {
     "data": {
      "text/plain": [
       "Transaction ID         0\n",
       "Item                   6\n",
       "Quantity               0\n",
       "Price Per Unit         6\n",
       "Total Spent           39\n",
       "Payment Method      3015\n",
       "Location            3779\n",
       "Transaction Date       0\n",
       "dtype: int64"
      ]
     },
     "execution_count": 29,
     "metadata": {},
     "output_type": "execute_result"
    }
   ],
   "source": [
    "temp_data['Quantity'] = temp_data['Quantity'].fillna(temp_data['Quantity'].median())\n",
    "temp_data.isnull().sum()"
   ]
  },
  {
   "cell_type": "code",
   "execution_count": 30,
   "id": "65a3d0f3",
   "metadata": {
    "execution": {
     "iopub.execute_input": "2025-09-08T13:07:25.057762Z",
     "iopub.status.busy": "2025-09-08T13:07:25.057429Z",
     "iopub.status.idle": "2025-09-08T13:07:25.072969Z",
     "shell.execute_reply": "2025-09-08T13:07:25.072111Z"
    },
    "papermill": {
     "duration": 0.02675,
     "end_time": "2025-09-08T13:07:25.074455",
     "exception": false,
     "start_time": "2025-09-08T13:07:25.047705",
     "status": "completed"
    },
    "tags": []
   },
   "outputs": [
    {
     "data": {
      "text/plain": [
       "Transaction ID         0\n",
       "Item                   0\n",
       "Quantity               0\n",
       "Price Per Unit         0\n",
       "Total Spent            0\n",
       "Payment Method      3012\n",
       "Location            3776\n",
       "Transaction Date       0\n",
       "dtype: int64"
      ]
     },
     "execution_count": 30,
     "metadata": {},
     "output_type": "execute_result"
    }
   ],
   "source": [
    "temp_data = temp_data.dropna(subset=['Item'])\n",
    "temp_data['Total Spent'] = temp_data['Total Spent'].fillna(temp_data['Quantity']*temp_data['Price Per Unit'])\n",
    "temp_data.isnull().sum()"
   ]
  },
  {
   "cell_type": "code",
   "execution_count": 31,
   "id": "5a0ada81",
   "metadata": {
    "execution": {
     "iopub.execute_input": "2025-09-08T13:07:25.092668Z",
     "iopub.status.busy": "2025-09-08T13:07:25.092315Z",
     "iopub.status.idle": "2025-09-08T13:07:25.100394Z",
     "shell.execute_reply": "2025-09-08T13:07:25.099334Z"
    },
    "papermill": {
     "duration": 0.019201,
     "end_time": "2025-09-08T13:07:25.102131",
     "exception": false,
     "start_time": "2025-09-08T13:07:25.082930",
     "status": "completed"
    },
    "tags": []
   },
   "outputs": [
    {
     "data": {
      "text/plain": [
       "Location\n",
       "Takeaway    2889\n",
       "In-store    2869\n",
       "Name: count, dtype: int64"
      ]
     },
     "execution_count": 31,
     "metadata": {},
     "output_type": "execute_result"
    }
   ],
   "source": [
    "temp_data['Location'].value_counts()"
   ]
  },
  {
   "cell_type": "code",
   "execution_count": 32,
   "id": "00098ea0",
   "metadata": {
    "execution": {
     "iopub.execute_input": "2025-09-08T13:07:25.120205Z",
     "iopub.status.busy": "2025-09-08T13:07:25.119894Z",
     "iopub.status.idle": "2025-09-08T13:07:25.130317Z",
     "shell.execute_reply": "2025-09-08T13:07:25.129407Z"
    },
    "papermill": {
     "duration": 0.021096,
     "end_time": "2025-09-08T13:07:25.131784",
     "exception": false,
     "start_time": "2025-09-08T13:07:25.110688",
     "status": "completed"
    },
    "tags": []
   },
   "outputs": [
    {
     "data": {
      "text/plain": [
       "Location\n",
       "Unknown     3776\n",
       "Takeaway    2889\n",
       "In-store    2869\n",
       "Name: count, dtype: int64"
      ]
     },
     "execution_count": 32,
     "metadata": {},
     "output_type": "execute_result"
    }
   ],
   "source": [
    "temp_data['Location'] = temp_data['Location'].fillna('Unknown')\n",
    "temp_data['Location'].value_counts()"
   ]
  },
  {
   "cell_type": "code",
   "execution_count": 33,
   "id": "0d7c5293",
   "metadata": {
    "execution": {
     "iopub.execute_input": "2025-09-08T13:07:25.150892Z",
     "iopub.status.busy": "2025-09-08T13:07:25.150481Z",
     "iopub.status.idle": "2025-09-08T13:07:25.158729Z",
     "shell.execute_reply": "2025-09-08T13:07:25.157788Z"
    },
    "papermill": {
     "duration": 0.019819,
     "end_time": "2025-09-08T13:07:25.160123",
     "exception": false,
     "start_time": "2025-09-08T13:07:25.140304",
     "status": "completed"
    },
    "tags": []
   },
   "outputs": [
    {
     "data": {
      "text/plain": [
       "Payment Method\n",
       "Digital Wallet    2196\n",
       "Credit Card       2168\n",
       "Cash              2158\n",
       "Name: count, dtype: int64"
      ]
     },
     "execution_count": 33,
     "metadata": {},
     "output_type": "execute_result"
    }
   ],
   "source": [
    "temp_data['Payment Method'].value_counts()"
   ]
  },
  {
   "cell_type": "code",
   "execution_count": 34,
   "id": "b30a4018",
   "metadata": {
    "execution": {
     "iopub.execute_input": "2025-09-08T13:07:25.179398Z",
     "iopub.status.busy": "2025-09-08T13:07:25.179081Z",
     "iopub.status.idle": "2025-09-08T13:07:25.192077Z",
     "shell.execute_reply": "2025-09-08T13:07:25.191086Z"
    },
    "papermill": {
     "duration": 0.024927,
     "end_time": "2025-09-08T13:07:25.193861",
     "exception": false,
     "start_time": "2025-09-08T13:07:25.168934",
     "status": "completed"
    },
    "tags": []
   },
   "outputs": [
    {
     "data": {
      "text/plain": [
       "Transaction ID      0\n",
       "Item                0\n",
       "Quantity            0\n",
       "Price Per Unit      0\n",
       "Total Spent         0\n",
       "Payment Method      0\n",
       "Location            0\n",
       "Transaction Date    0\n",
       "dtype: int64"
      ]
     },
     "execution_count": 34,
     "metadata": {},
     "output_type": "execute_result"
    }
   ],
   "source": [
    "temp_data['Payment Method'] = temp_data['Payment Method'].fillna('Unknown')\n",
    "temp_data.isnull().sum()"
   ]
  },
  {
   "cell_type": "code",
   "execution_count": 35,
   "id": "c7e59634",
   "metadata": {
    "execution": {
     "iopub.execute_input": "2025-09-08T13:07:25.212505Z",
     "iopub.status.busy": "2025-09-08T13:07:25.212145Z",
     "iopub.status.idle": "2025-09-08T13:07:25.226171Z",
     "shell.execute_reply": "2025-09-08T13:07:25.225377Z"
    },
    "papermill": {
     "duration": 0.025123,
     "end_time": "2025-09-08T13:07:25.227772",
     "exception": false,
     "start_time": "2025-09-08T13:07:25.202649",
     "status": "completed"
    },
    "tags": []
   },
   "outputs": [
    {
     "data": {
      "text/html": [
       "<div>\n",
       "<style scoped>\n",
       "    .dataframe tbody tr th:only-of-type {\n",
       "        vertical-align: middle;\n",
       "    }\n",
       "\n",
       "    .dataframe tbody tr th {\n",
       "        vertical-align: top;\n",
       "    }\n",
       "\n",
       "    .dataframe thead th {\n",
       "        text-align: right;\n",
       "    }\n",
       "</style>\n",
       "<table border=\"1\" class=\"dataframe\">\n",
       "  <thead>\n",
       "    <tr style=\"text-align: right;\">\n",
       "      <th></th>\n",
       "      <th>Transaction ID</th>\n",
       "      <th>Item</th>\n",
       "      <th>Quantity</th>\n",
       "      <th>Price Per Unit</th>\n",
       "      <th>Total Spent</th>\n",
       "      <th>Payment Method</th>\n",
       "      <th>Location</th>\n",
       "      <th>Transaction Date</th>\n",
       "    </tr>\n",
       "  </thead>\n",
       "  <tbody>\n",
       "    <tr>\n",
       "      <th>0</th>\n",
       "      <td>TXN_1961373</td>\n",
       "      <td>Coffee</td>\n",
       "      <td>2.0</td>\n",
       "      <td>2.0</td>\n",
       "      <td>4.0</td>\n",
       "      <td>Credit Card</td>\n",
       "      <td>Takeaway</td>\n",
       "      <td>2023-09-08</td>\n",
       "    </tr>\n",
       "    <tr>\n",
       "      <th>1</th>\n",
       "      <td>TXN_4977031</td>\n",
       "      <td>Cake</td>\n",
       "      <td>4.0</td>\n",
       "      <td>3.0</td>\n",
       "      <td>12.0</td>\n",
       "      <td>Cash</td>\n",
       "      <td>In-store</td>\n",
       "      <td>2023-05-16</td>\n",
       "    </tr>\n",
       "    <tr>\n",
       "      <th>2</th>\n",
       "      <td>TXN_4271903</td>\n",
       "      <td>Cookie</td>\n",
       "      <td>4.0</td>\n",
       "      <td>1.0</td>\n",
       "      <td>4.0</td>\n",
       "      <td>Credit Card</td>\n",
       "      <td>In-store</td>\n",
       "      <td>2023-07-19</td>\n",
       "    </tr>\n",
       "    <tr>\n",
       "      <th>3</th>\n",
       "      <td>TXN_7034554</td>\n",
       "      <td>Salad</td>\n",
       "      <td>2.0</td>\n",
       "      <td>5.0</td>\n",
       "      <td>10.0</td>\n",
       "      <td>Unknown</td>\n",
       "      <td>Unknown</td>\n",
       "      <td>2023-04-27</td>\n",
       "    </tr>\n",
       "    <tr>\n",
       "      <th>4</th>\n",
       "      <td>TXN_3160411</td>\n",
       "      <td>Coffee</td>\n",
       "      <td>2.0</td>\n",
       "      <td>2.0</td>\n",
       "      <td>4.0</td>\n",
       "      <td>Digital Wallet</td>\n",
       "      <td>In-store</td>\n",
       "      <td>2023-06-11</td>\n",
       "    </tr>\n",
       "  </tbody>\n",
       "</table>\n",
       "</div>"
      ],
      "text/plain": [
       "  Transaction ID    Item  Quantity  Price Per Unit  Total Spent  \\\n",
       "0    TXN_1961373  Coffee       2.0             2.0          4.0   \n",
       "1    TXN_4977031    Cake       4.0             3.0         12.0   \n",
       "2    TXN_4271903  Cookie       4.0             1.0          4.0   \n",
       "3    TXN_7034554   Salad       2.0             5.0         10.0   \n",
       "4    TXN_3160411  Coffee       2.0             2.0          4.0   \n",
       "\n",
       "   Payment Method  Location Transaction Date  \n",
       "0     Credit Card  Takeaway       2023-09-08  \n",
       "1            Cash  In-store       2023-05-16  \n",
       "2     Credit Card  In-store       2023-07-19  \n",
       "3         Unknown   Unknown       2023-04-27  \n",
       "4  Digital Wallet  In-store       2023-06-11  "
      ]
     },
     "execution_count": 35,
     "metadata": {},
     "output_type": "execute_result"
    }
   ],
   "source": [
    "temp_data.head()"
   ]
  },
  {
   "cell_type": "code",
   "execution_count": 36,
   "id": "61c34c72",
   "metadata": {
    "execution": {
     "iopub.execute_input": "2025-09-08T13:07:25.246911Z",
     "iopub.status.busy": "2025-09-08T13:07:25.246590Z",
     "iopub.status.idle": "2025-09-08T13:07:25.306011Z",
     "shell.execute_reply": "2025-09-08T13:07:25.305081Z"
    },
    "papermill": {
     "duration": 0.070917,
     "end_time": "2025-09-08T13:07:25.307692",
     "exception": false,
     "start_time": "2025-09-08T13:07:25.236775",
     "status": "completed"
    },
    "tags": []
   },
   "outputs": [],
   "source": [
    "temp_data.to_csv('/kaggle/working/cafe-sales-clean.csv', index=False)"
   ]
  },
  {
   "cell_type": "code",
   "execution_count": null,
   "id": "c6f5d752",
   "metadata": {
    "papermill": {
     "duration": 0.008572,
     "end_time": "2025-09-08T13:07:25.325367",
     "exception": false,
     "start_time": "2025-09-08T13:07:25.316795",
     "status": "completed"
    },
    "tags": []
   },
   "outputs": [],
   "source": []
  }
 ],
 "metadata": {
  "kaggle": {
   "accelerator": "none",
   "dataSources": [
    {
     "datasetId": 6501209,
     "sourceId": 10500284,
     "sourceType": "datasetVersion"
    }
   ],
   "dockerImageVersionId": 31089,
   "isGpuEnabled": false,
   "isInternetEnabled": true,
   "language": "python",
   "sourceType": "notebook"
  },
  "kernelspec": {
   "display_name": "Python 3",
   "language": "python",
   "name": "python3"
  },
  "language_info": {
   "codemirror_mode": {
    "name": "ipython",
    "version": 3
   },
   "file_extension": ".py",
   "mimetype": "text/x-python",
   "name": "python",
   "nbconvert_exporter": "python",
   "pygments_lexer": "ipython3",
   "version": "3.11.13"
  },
  "papermill": {
   "default_parameters": {},
   "duration": 9.405236,
   "end_time": "2025-09-08T13:07:25.854614",
   "environment_variables": {},
   "exception": null,
   "input_path": "__notebook__.ipynb",
   "output_path": "__notebook__.ipynb",
   "parameters": {},
   "start_time": "2025-09-08T13:07:16.449378",
   "version": "2.6.0"
  }
 },
 "nbformat": 4,
 "nbformat_minor": 5
}
